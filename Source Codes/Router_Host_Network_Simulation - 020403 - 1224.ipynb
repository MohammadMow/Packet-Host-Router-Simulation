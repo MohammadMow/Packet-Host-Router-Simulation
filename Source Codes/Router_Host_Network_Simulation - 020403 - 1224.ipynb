{
  "nbformat": 4,
  "nbformat_minor": 0,
  "metadata": {
    "colab": {
      "provenance": []
    },
    "kernelspec": {
      "name": "python3",
      "display_name": "Python 3"
    },
    "language_info": {
      "name": "python"
    }
  },
  "cells": [
    {
      "cell_type": "markdown",
      "source": [
        "# Computer Simulation Project\n",
        "Mohammad Javad Maheronnaghsh\n",
        "\n",
        "Mohammad Mowlavi"
      ],
      "metadata": {
        "id": "4jPNUWNUr6CP"
      }
    },
    {
      "cell_type": "markdown",
      "source": [
        "## General Information of the Simulation"
      ],
      "metadata": {
        "id": "FPt12Vh7samr"
      }
    },
    {
      "cell_type": "code",
      "source": [
        "# Imported Libraries\n",
        "import numpy as np\n",
        "import random"
      ],
      "metadata": {
        "id": "2Yd8Vw3-_GPs"
      },
      "execution_count": 8,
      "outputs": []
    },
    {
      "cell_type": "code",
      "source": [
        "X = 5 # parameter of the poisson distribution (in packet generation)\n",
        "Y = 6 # parameter of the exponential distribution (in router - for service time generation)\n",
        "T = 50 # Total simulation time"
      ],
      "metadata": {
        "id": "BNFiKxfuseFT"
      },
      "execution_count": 6,
      "outputs": []
    },
    {
      "cell_type": "code",
      "source": [
        "PROCESSORS_NUM = 2 # It can varry\n",
        "SERVICE_POLICY = ['FIFO', 'WRR', 'NPPS'][0] # It can varry\n",
        "LENGTH_LIMIT = 20 # It can varry"
      ],
      "metadata": {
        "id": "8LV3ts58-ag6"
      },
      "execution_count": 4,
      "outputs": []
    },
    {
      "cell_type": "markdown",
      "source": [
        "## Generate Packets\n",
        "Here we are going to generate the packets ~ Poisson(X)"
      ],
      "metadata": {
        "id": "lVtZ0OCEsEjw"
      }
    },
    {
      "cell_type": "code",
      "source": [
        "generator = np.random.default_rng()\n",
        "packet_arraivals = generator.poisson(lam=X, size=T * X)\n",
        "priorities = np.random.choice([0, 1, 2], p=[0.2, 0.3, 0.5], size = T * X)"
      ],
      "metadata": {
        "id": "IDkI5F3osDAY"
      },
      "execution_count": 21,
      "outputs": []
    },
    {
      "cell_type": "markdown",
      "source": [
        "## Generate Service Times\n",
        "Here we are going to generate the service times ~ Exponential(Y)"
      ],
      "metadata": {
        "id": "r8DV_9GXsMso"
      }
    },
    {
      "cell_type": "code",
      "execution_count": 22,
      "metadata": {
        "id": "0BgJ3D2Qr17Z"
      },
      "outputs": [],
      "source": [
        "generator = np.random.default_rng()\n",
        "packet_times = generator.exponential(Y, size=T * X)"
      ]
    },
    {
      "cell_type": "code",
      "source": [
        "packets = np.array([(arrival, priority, time) for (arrival, priority, time)\n",
        " in zip(packet_arraivals, priorities, packet_times)])"
      ],
      "metadata": {
        "id": "siPWxTkSBg2w"
      },
      "execution_count": 23,
      "outputs": []
    },
    {
      "cell_type": "code",
      "source": [
        "packets.shape"
      ],
      "metadata": {
        "colab": {
          "base_uri": "https://localhost:8080/"
        },
        "id": "ZXuLq5olAqIx",
        "outputId": "9935c0d1-5e2a-42a2-db56-235ca2697602"
      },
      "execution_count": 24,
      "outputs": [
        {
          "output_type": "execute_result",
          "data": {
            "text/plain": [
              "(250, 3)"
            ]
          },
          "metadata": {},
          "execution_count": 24
        }
      ]
    },
    {
      "cell_type": "markdown",
      "source": [
        "## Start Simulation\n"
      ],
      "metadata": {
        "id": "CZiLzESWCBY4"
      }
    },
    {
      "cell_type": "code",
      "source": [
        "# T : Total Time of Simlation\n",
        "for t in T:\n",
        "  # TODO"
      ],
      "metadata": {
        "id": "zI2bhiWWCA0X"
      },
      "execution_count": null,
      "outputs": []
    },
    {
      "cell_type": "markdown",
      "source": [
        "## Visualization\n",
        "Here we are going to visualize the outputs and check the performance of our simulation."
      ],
      "metadata": {
        "id": "iSOf3ExLsYy8"
      }
    },
    {
      "cell_type": "markdown",
      "source": [
        "### Mean Length of the Queue"
      ],
      "metadata": {
        "id": "hRxMWGhktVzi"
      }
    },
    {
      "cell_type": "code",
      "source": [],
      "metadata": {
        "id": "mRW2dCYAtcoa"
      },
      "execution_count": null,
      "outputs": []
    },
    {
      "cell_type": "markdown",
      "source": [
        "### Mean time wasted in all Queues"
      ],
      "metadata": {
        "id": "MjR86yRTtcyf"
      }
    },
    {
      "cell_type": "code",
      "source": [],
      "metadata": {
        "id": "bQMtsWsutiXv"
      },
      "execution_count": null,
      "outputs": []
    },
    {
      "cell_type": "markdown",
      "source": [
        "### Mean time wasted in each Queue"
      ],
      "metadata": {
        "id": "edB1ok_3tigv"
      }
    },
    {
      "cell_type": "code",
      "source": [],
      "metadata": {
        "id": "W-FTyXb3tm3k"
      },
      "execution_count": null,
      "outputs": []
    },
    {
      "cell_type": "markdown",
      "source": [
        "### Mean Utilization of each processor"
      ],
      "metadata": {
        "id": "uWYilU8UtnAw"
      }
    },
    {
      "cell_type": "code",
      "source": [],
      "metadata": {
        "id": "QMjEXn80tv0J"
      },
      "execution_count": null,
      "outputs": []
    },
    {
      "cell_type": "markdown",
      "source": [
        "### Number of dropped packages"
      ],
      "metadata": {
        "id": "d1n8XAVDtwd8"
      }
    },
    {
      "cell_type": "code",
      "source": [],
      "metadata": {
        "id": "-fbNUBgNt0zP"
      },
      "execution_count": null,
      "outputs": []
    },
    {
      "cell_type": "markdown",
      "source": [
        "### How can we increase the utilization of the system?"
      ],
      "metadata": {
        "id": "EqnvEsuxt06b"
      }
    },
    {
      "cell_type": "markdown",
      "source": [
        "Answer:"
      ],
      "metadata": {
        "id": "KaHfDziet6f5"
      }
    },
    {
      "cell_type": "markdown",
      "source": [
        "### CDF Plots of high-priority Packages"
      ],
      "metadata": {
        "id": "U6eh5vpat8AA"
      }
    },
    {
      "cell_type": "code",
      "source": [],
      "metadata": {
        "id": "WnlVHbbWuD6Y"
      },
      "execution_count": null,
      "outputs": []
    },
    {
      "cell_type": "markdown",
      "source": [
        "### Which of the Queuing Poilicies (3 policies) is better regarding the \"number of dropped packages\" and \"number of packages received by the Host\"?"
      ],
      "metadata": {
        "id": "qtLTEnCRuEB9"
      }
    },
    {
      "cell_type": "markdown",
      "source": [
        "Answer:"
      ],
      "metadata": {
        "id": "mpTUczK1uZ0J"
      }
    }
  ]
}