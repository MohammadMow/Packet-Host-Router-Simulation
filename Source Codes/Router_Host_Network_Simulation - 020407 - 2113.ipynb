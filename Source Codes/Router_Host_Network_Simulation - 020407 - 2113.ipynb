{
 "nbformat": 4,
 "nbformat_minor": 0,
 "metadata": {
  "colab": {
   "provenance": []
  },
  "kernelspec": {
   "name": "python3",
   "display_name": "Python 3"
  },
  "language_info": {
   "name": "python"
  }
 },
 "cells": [
  {
   "cell_type": "markdown",
   "source": [
    "# Computer Simulation Project\n",
    "Mohammad Javad Maheronnaghsh\n",
    "\n",
    "Mohammad Mowlavi"
   ],
   "metadata": {
    "id": "4jPNUWNUr6CP"
   }
  },
  {
   "cell_type": "markdown",
   "source": [
    "## General Information of the Simulation"
   ],
   "metadata": {
    "id": "FPt12Vh7samr"
   }
  },
  {
   "cell_type": "code",
   "source": [
    "# Imported Libraries\n",
    "import numpy as np\n",
    "from enum import Enum"
   ],
   "metadata": {
    "id": "2Yd8Vw3-_GPs"
   },
   "execution_count": 6,
   "outputs": []
  },
  {
   "cell_type": "code",
   "source": [
    "class FinishProgramException(Exception):\n",
    "    pass\n",
    "\n",
    "\n",
    "class Task:\n",
    "    TASK_ID = 1\n",
    "\n",
    "    def __init__(self, inter_arrival=None, priority=None, execute_time=None):\n",
    "        self.task_id = Task.TASK_ID\n",
    "        self.inter_arrival = inter_arrival\n",
    "        self.arrival = None\n",
    "        self.priority = priority\n",
    "        self.execution_time = execute_time\n",
    "        self.start_execution_time = None\n",
    "        self.end_execution_time = None\n",
    "        self.processor = None\n",
    "        self.is_in_queue = False\n",
    "        Task.TASK_ID += 1\n",
    "\n",
    "    def __str__(self):\n",
    "        return str(self.inter_arrival, self.priority)\n",
    "\n",
    "    @staticmethod\n",
    "    def get_next_arrival_task(all_tasks):  # all tasks are sorted\n",
    "        for t in all_tasks:\n",
    "            if t.start_execution_time is None and not t.is_in_queue:\n",
    "                return t\n",
    "        raise FinishProgramException()\n",
    "\n",
    "    @staticmethod\n",
    "    def get_next_free_processor_task(all_tasks):\n",
    "        in_progress_tasks = []\n",
    "        for t in all_tasks:\n",
    "            if t.start_execution_time is not None and t.end_execution_time is None:\n",
    "                in_progress_tasks.append(t)\n",
    "        if in_progress_tasks:\n",
    "            return min(in_progress_tasks, key=lambda x: x.start_execution_time + x.execution_time)\n",
    "\n",
    "    @staticmethod\n",
    "    def set_all_arrivals(all_tasks):\n",
    "        cum_sum = 0\n",
    "        for t in all_tasks:\n",
    "            t.arrival = cum_sum + t.inter_arrival\n",
    "            cum_sum += t.inter_arrival\n",
    "\n",
    "    def finish(self):\n",
    "        self.end_execution_time = self.start_execution_time + self.execution_time\n",
    "\n",
    "    @staticmethod\n",
    "    def get_cumulative_queue_time(all_tasks, end_time, priority=None):\n",
    "        cum_sum = 0\n",
    "        for t in all_tasks:\n",
    "            if t.arrival <= end_time and (priority is not None or priority == t.priority):\n",
    "                cum_sum += t.start_execution_time - t.arrival\n",
    "            elif t.arrival >= end_time:\n",
    "                break\n",
    "        return cum_sum\n",
    "\n",
    "\n",
    "class BaseQueue:\n",
    "    def __init__(self, length_limit):\n",
    "        self.length_limit = length_limit\n",
    "\n",
    "    def get_next(self):\n",
    "        raise NotImplemented\n",
    "\n",
    "    def add_arrival_to_queue(self, task):\n",
    "        raise NotImplemented\n",
    "\n",
    "\n",
    "class FIFO(BaseQueue):\n",
    "\n",
    "    def __init__(self, length_limit):\n",
    "        super().__init__(length_limit)\n",
    "        self.queue = []\n",
    "\n",
    "    def get_next(self):\n",
    "        try:\n",
    "            return self.queue.pop(0)\n",
    "        except IndexError:\n",
    "            return None\n",
    "\n",
    "    def add_arrival_to_queue(self, task):\n",
    "        if len(self.queue) < self.length_limit:\n",
    "            self.queue.append(task)\n",
    "\n",
    "\n",
    "class WRR(BaseQueue):\n",
    "\n",
    "    def __init__(self, length_limit):\n",
    "        super().__init__(length_limit)\n",
    "        self._priority_queues = [[] for i in range(3)]\n",
    "\n",
    "    def get_next(self):\n",
    "        for priority in range(3):\n",
    "            if self._priority_queues[priority]:\n",
    "                return self._priority_queues[priority].pop(0)\n",
    "        return None\n",
    "\n",
    "    def add_arrival_to_queue(self, task):\n",
    "        if len(self._priority_queues[task.priority]) < self.length_limit:\n",
    "            self._priority_queues[task.priority].append(task)\n",
    "\n",
    "\n",
    "class NPPS(BaseQueue):\n",
    "    def __init__(self, length_limit):\n",
    "        super().__init__(length_limit)\n",
    "        self.queue = []\n",
    "\n",
    "    def get_next(self):\n",
    "        try:\n",
    "            return self.queue.pop(0)\n",
    "        except IndexError:\n",
    "            return None\n",
    "\n",
    "    def add_arrival_to_queue(self, task):\n",
    "        if len(self.queue) < self.length_limit:\n",
    "            self.queue.append(task)\n",
    "            self.queue = sorted(self.queue, key=lambda x: (x.priority, x.inter_arrival))\n",
    "\n",
    "\n",
    "class EventType(Enum):\n",
    "    END_TASK = 1\n",
    "    NEW_TASK = 2\n",
    "\n",
    "\n",
    "class Router:\n",
    "    def __init__(self, processors_num, service_policy, length_limit, simulation_time, all_tasks):\n",
    "        self.processors = [i for i in range(processors_num)]\n",
    "        self.busy_processors = []\n",
    "        self.service_policy = service_policy(length_limit)\n",
    "        self.length_limit = length_limit  # TODO\n",
    "        self.simulation_time = simulation_time\n",
    "        self.all_tasks = all_tasks\n",
    "        self.current_time = 0\n",
    "\n",
    "    def handle_and_get_next_event(self):\n",
    "        next_arrival_task = Task.get_next_arrival_task(self.all_tasks)\n",
    "        next_arrival_time = next_arrival_task.arrival if next_arrival_task else None\n",
    "\n",
    "        next_free_processor_task = Task.get_next_free_processor_task(self.all_tasks)\n",
    "        if next_free_processor_task:\n",
    "            next_free_processor_time = next_free_processor_task.start_execution_time + next_free_processor_task.execution_time\n",
    "        else:\n",
    "            next_free_processor_time = None\n",
    "\n",
    "        next_event_time = self.get_next_event_time(next_arrival_time, next_free_processor_time)\n",
    "\n",
    "        if next_event_time and next_event_time > self.simulation_time or next_event_time is None:\n",
    "            raise FinishProgramException()\n",
    "\n",
    "        if next_event_time == next_arrival_time:  # TODO what happens if next_arrival_time == next_free_processor_time\n",
    "            return EventType.NEW_TASK.value, next_event_time\n",
    "        elif next_event_time == next_free_processor_time:\n",
    "            next_free_processor_task.finish()\n",
    "            self.busy_processors.remove(next_free_processor_task.processor)\n",
    "            return EventType.END_TASK.value, next_event_time\n",
    "        else:\n",
    "            raise Exception(\"what happened exactly?\")\n",
    "\n",
    "    def get_next_event_time(self, next_arrival_time, next_free_processor_time):\n",
    "        if next_arrival_time is not None and next_free_processor_time is not None:\n",
    "            return min(next_arrival_time, next_free_processor_time)\n",
    "        elif next_arrival_time is not None:\n",
    "            return next_arrival_time\n",
    "        elif next_free_processor_time is not None:\n",
    "            return next_free_processor_time\n",
    "        else:\n",
    "            return None\n",
    "\n",
    "    def get_first_free_processor(self):\n",
    "        for processor in self.processors:\n",
    "            if processor not in self.busy_processors:\n",
    "                return processor\n",
    "\n",
    "    def execute_all_tasks(self):\n",
    "        Task.set_all_arrivals(self.all_tasks)\n",
    "        try:\n",
    "            while self.current_time <= self.simulation_time:\n",
    "                next_event, next_event_time = self.handle_and_get_next_event()\n",
    "                if next_event == EventType.NEW_TASK.value:\n",
    "                    free_processor = self.get_first_free_processor()\n",
    "                    next_task = Task.get_next_arrival_task(self.all_tasks)\n",
    "                    # self.service_policy.add_arrival_to_queue(next_task)\n",
    "                    # next_task.is_in_queue = True\n",
    "                    if free_processor is not None:\n",
    "                        # self.execute(self.service_policy.get_next(), free_processor, next_event_time)\n",
    "                        self.execute(next_task, free_processor, next_event_time)\n",
    "                    else:\n",
    "                        next_task.is_in_queue = True\n",
    "                        self.service_policy.add_arrival_to_queue(next_task)\n",
    "                elif next_event == EventType.END_TASK.value:\n",
    "                    free_processor = self.get_first_free_processor()\n",
    "                    if free_processor is not None:\n",
    "                        task_in_queue = self.service_policy.get_next()\n",
    "                        if task_in_queue is not None:\n",
    "                            self.execute(task_in_queue, free_processor, next_event_time)\n",
    "                    else:\n",
    "                        raise Exception('how is it possible !?')\n",
    "                else:\n",
    "                    raise Exception(f'next_event is not in [FINISH_PROGRAM, NEW_TASK, END_TASK]')\n",
    "                self.current_time = next_event_time\n",
    "        except FinishProgramException:\n",
    "            self.finish_all()\n",
    "\n",
    "        print(f'Simulation ended at {self.current_time}')\n",
    "\n",
    "    def finish_all(self):\n",
    "        for t in self.all_tasks:\n",
    "            t: Task\n",
    "            if t.start_execution_time is not None and t.end_execution_time is None:\n",
    "                t.finish()\n",
    "\n",
    "    def execute(self, t, processor, next_event_time):\n",
    "        t.start_execution_time = next_event_time\n",
    "        t.processor = processor\n",
    "        self.busy_processors.append(processor)\n"
   ],
   "metadata": {
    "id": "h15s8a0KyaPP"
   },
   "execution_count": 7,
   "outputs": []
  },
  {
   "cell_type": "code",
   "source": [
    "X = 5 # parameter of the poisson distribution (in packet generation)\n",
    "Y = 6 # parameter of the exponential distribution (in router - for service time generation)\n",
    "T = 50 # Total simulation time"
   ],
   "metadata": {
    "id": "BNFiKxfuseFT"
   },
   "execution_count": 8,
   "outputs": []
  },
  {
   "cell_type": "code",
   "source": [
    "PROCESSORS_NUM = 2 # It can vary\n",
    "SERVICE_POLICY = [FIFO, WRR, NPPS][0]  # It can vary\n",
    "LENGTH_LIMIT = 20 # It can vary"
   ],
   "metadata": {
    "id": "8LV3ts58-ag6"
   },
   "execution_count": 9,
   "outputs": []
  },
  {
   "cell_type": "markdown",
   "source": [
    "## Generate Packets\n",
    "Here we are going to generate the packets ~ Poisson(X)"
   ],
   "metadata": {
    "id": "lVtZ0OCEsEjw"
   }
  },
  {
   "cell_type": "code",
   "source": [
    "generator = np.random.default_rng()\n",
    "packet_arrivals = generator.poisson(lam=X, size=T * X)\n",
    "priorities = np.random.choice([0, 1, 2], p=[0.2, 0.3, 0.5], size = T * X)"
   ],
   "metadata": {
    "id": "IDkI5F3osDAY"
   },
   "execution_count": 13,
   "outputs": []
  },
  {
   "cell_type": "markdown",
   "source": [
    "## Generate Service Times\n",
    "Here we are going to generate the service times ~ Exponential(Y)"
   ],
   "metadata": {
    "id": "r8DV_9GXsMso"
   }
  },
  {
   "cell_type": "code",
   "execution_count": 11,
   "metadata": {
    "id": "0BgJ3D2Qr17Z"
   },
   "outputs": [],
   "source": [
    "generator = np.random.default_rng()\n",
    "packet_times = generator.exponential(Y, size=T * X)"
   ]
  },
  {
   "cell_type": "code",
   "source": [
    "arrivals = 0\n",
    "packets = []\n",
    "counter = 0\n",
    "\n",
    "while arrivals <= T:\n",
    "    packets.append(\n",
    "        Task(inter_arrival=packet_arrivals[counter], priority=priorities[counter], execute_time=packet_times[counter]))\n",
    "    arrivals += packet_arrivals[counter]\n",
    "    counter += 1\n"
   ],
   "metadata": {
    "id": "siPWxTkSBg2w"
   },
   "execution_count": 15,
   "outputs": []
  },
  {
   "cell_type": "code",
   "source": [
    "print(len(packets))\n"
   ],
   "metadata": {
    "colab": {
     "base_uri": "https://localhost:8080/"
    },
    "id": "ZXuLq5olAqIx",
    "outputId": "f567c284-0137-410b-a35d-fd77f14e0ee4"
   },
   "execution_count": 16,
   "outputs": [
    {
     "output_type": "stream",
     "name": "stdout",
     "text": [
      "250\n"
     ]
    }
   ]
  },
  {
   "cell_type": "markdown",
   "source": [
    "## Start Simulation\n"
   ],
   "metadata": {
    "id": "CZiLzESWCBY4"
   }
  },
  {
   "cell_type": "code",
   "source": [
    "r = Router(processors_num=PROCESSORS_NUM, service_policy=SERVICE_POLICY, length_limit=LENGTH_LIMIT, simulation_time=T,\n",
    "           all_tasks=packets)\n",
    "r.execute_all_tasks()"
   ],
   "metadata": {
    "id": "zI2bhiWWCA0X"
   },
   "execution_count": null,
   "outputs": []
  },
  {
   "cell_type": "markdown",
   "source": [
    "## Visualization\n",
    "Here we are going to visualize the outputs and check the performance of our simulation."
   ],
   "metadata": {
    "id": "iSOf3ExLsYy8"
   }
  },
  {
   "cell_type": "markdown",
   "source": [
    "### Mean Length of the Queue"
   ],
   "metadata": {
    "id": "hRxMWGhktVzi"
   }
  },
  {
   "cell_type": "code",
   "source": [],
   "metadata": {
    "id": "mRW2dCYAtcoa"
   },
   "execution_count": null,
   "outputs": []
  },
  {
   "cell_type": "markdown",
   "source": [
    "### Mean time wasted in all Queues"
   ],
   "metadata": {
    "id": "MjR86yRTtcyf"
   }
  },
  {
   "cell_type": "code",
   "source": [],
   "metadata": {
    "id": "bQMtsWsutiXv"
   },
   "execution_count": null,
   "outputs": []
  },
  {
   "cell_type": "markdown",
   "source": [
    "### Mean time wasted in each Queue"
   ],
   "metadata": {
    "id": "edB1ok_3tigv"
   }
  },
  {
   "cell_type": "code",
   "source": [],
   "metadata": {
    "id": "W-FTyXb3tm3k"
   },
   "execution_count": null,
   "outputs": []
  },
  {
   "cell_type": "markdown",
   "source": [
    "### Mean Utilization of each processor"
   ],
   "metadata": {
    "id": "uWYilU8UtnAw"
   }
  },
  {
   "cell_type": "code",
   "source": [],
   "metadata": {
    "id": "QMjEXn80tv0J"
   },
   "execution_count": null,
   "outputs": []
  },
  {
   "cell_type": "markdown",
   "source": [
    "### Number of dropped packages"
   ],
   "metadata": {
    "id": "d1n8XAVDtwd8"
   }
  },
  {
   "cell_type": "code",
   "source": [],
   "metadata": {
    "id": "-fbNUBgNt0zP"
   },
   "execution_count": null,
   "outputs": []
  },
  {
   "cell_type": "markdown",
   "source": [
    "### How can we increase the utilization of the system?"
   ],
   "metadata": {
    "id": "EqnvEsuxt06b"
   }
  },
  {
   "cell_type": "markdown",
   "source": [
    "Answer:"
   ],
   "metadata": {
    "id": "KaHfDziet6f5"
   }
  },
  {
   "cell_type": "markdown",
   "source": [
    "### CDF Plots of high-priority Packages"
   ],
   "metadata": {
    "id": "U6eh5vpat8AA"
   }
  },
  {
   "cell_type": "code",
   "source": [],
   "metadata": {
    "id": "WnlVHbbWuD6Y"
   },
   "execution_count": null,
   "outputs": []
  },
  {
   "cell_type": "markdown",
   "source": [
    "### Which of the Queuing Poilicies (3 policies) is better regarding the \"number of dropped packages\" and \"number of packages received by the Host\"?"
   ],
   "metadata": {
    "id": "qtLTEnCRuEB9"
   }
  },
  {
   "cell_type": "markdown",
   "source": [
    "Answer:"
   ],
   "metadata": {
    "id": "mpTUczK1uZ0J"
   }
  }
 ]
}