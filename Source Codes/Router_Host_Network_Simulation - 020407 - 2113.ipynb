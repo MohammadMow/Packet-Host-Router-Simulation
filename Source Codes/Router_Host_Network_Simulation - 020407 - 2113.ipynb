{
  "nbformat": 4,
  "nbformat_minor": 0,
  "metadata": {
    "colab": {
      "provenance": []
    },
    "kernelspec": {
      "name": "python3",
      "display_name": "Python 3"
    },
    "language_info": {
      "name": "python"
    }
  },
  "cells": [
    {
      "cell_type": "markdown",
      "source": [
        "# Computer Simulation Project\n",
        "Mohammad Javad Maheronnaghsh\n",
        "\n",
        "Mohammad Mowlavi"
      ],
      "metadata": {
        "id": "4jPNUWNUr6CP"
      }
    },
    {
      "cell_type": "markdown",
      "source": [
        "## General Information of the Simulation"
      ],
      "metadata": {
        "id": "FPt12Vh7samr"
      }
    },
    {
      "cell_type": "code",
      "source": [
        "# Imported Libraries\n",
        "import numpy as np\n",
        "import random"
      ],
      "metadata": {
        "id": "2Yd8Vw3-_GPs"
      },
      "execution_count": 6,
      "outputs": []
    },
    {
      "cell_type": "code",
      "source": [
        "\n",
        "\n",
        "class Task:\n",
        "    def __init__(self, inter_arrival=None, priority=None, execute_time=None):\n",
        "        self.inter_arrival = inter_arrival\n",
        "        self.priority = priority\n",
        "        self.execute_time = execute_time\n",
        "\n",
        "\n",
        "class BaseQueue:\n",
        "    def __init__(self):\n",
        "        pass\n",
        "\n",
        "    def get_first(self):\n",
        "        raise NotImplemented\n",
        "\n",
        "    def add_arrival(self, task):\n",
        "        raise NotImplemented\n",
        "\n",
        "\n",
        "class FIFO(BaseQueue):\n",
        "\n",
        "    def __init__(self):\n",
        "        super().__init__()\n",
        "        self.queue = []\n",
        "\n",
        "    def get_first(self):\n",
        "        try:\n",
        "            return self.queue.pop()\n",
        "        except Exception:\n",
        "            return None\n",
        "\n",
        "    def add_arrival(self, task):\n",
        "        self.queue.append(task)\n",
        "\n",
        "\n",
        "class WRR(BaseQueue):\n",
        "\n",
        "    def __init__(self):\n",
        "        super().__init__()\n",
        "        self._priority_queues = [[] for i in range(3)]\n",
        "\n",
        "    def get_first(self):\n",
        "        for priority in range(3):\n",
        "            if self._priority_queues[priority]:\n",
        "                return self._priority_queues[priority].pop()\n",
        "        return None\n",
        "\n",
        "    def add_arrival(self, task):\n",
        "        self._priority_queues[task.priority].append(task)\n",
        "\n",
        "\n",
        "class NPPS(BaseQueue):\n",
        "    def __init__(self):\n",
        "        super().__init__()\n",
        "        self.queue = []\n",
        "\n",
        "    def get_first(self):\n",
        "        try:\n",
        "            return self.queue.pop()\n",
        "        except Exception:\n",
        "            return None\n",
        "\n",
        "    def add_arrival(self, task):\n",
        "        self.queue.append(task)\n",
        "        self.queue = sorted(self.queue, key=lambda x: (x.priority, x.inter_arrival))\n",
        "\n",
        "\n",
        "class Router:\n",
        "    def __init__(self, PROCESSORS_NUM, SERVICE_POLICY, LENGTH_LIMIT, simulation_time):\n",
        "        self.PROCESSORS_NUM = PROCESSORS_NUM\n",
        "        self.SERVICE_POLICY = SERVICE_POLICY\n",
        "        self.LENGTH_LIMIT = LENGTH_LIMIT  # TODO\n",
        "        self.simulation_time = simulation_time\n",
        "\n",
        "    def execute_all_tasks(self, all_tasks):\n",
        "        current_time = 0\n",
        "        for task in all_tasks:\n",
        "            current_time += task.inter_arrival\n",
        "            if current_time > self.simulation_time:\n",
        "                break\n",
        "\n",
        "        print('Simulation ended')\n",
        "\n",
        "    def execute(self, task, ):\n",
        "        self.SERVICE_POLICY.get_first()\n",
        "\n"
      ],
      "metadata": {
        "id": "h15s8a0KyaPP"
      },
      "execution_count": 7,
      "outputs": []
    },
    {
      "cell_type": "code",
      "source": [
        "X = 5 # parameter of the poisson distribution (in packet generation)\n",
        "Y = 6 # parameter of the exponential distribution (in router - for service time generation)\n",
        "T = 50 # Total simulation time"
      ],
      "metadata": {
        "id": "BNFiKxfuseFT"
      },
      "execution_count": 8,
      "outputs": []
    },
    {
      "cell_type": "code",
      "source": [
        "PROCESSORS_NUM = 2 # It can varry\n",
        "SERVICE_POLICY = [FIFO(), WRR(), NPPS()][0]  # It can vary\n",
        "LENGTH_LIMIT = 20 # It can varry"
      ],
      "metadata": {
        "id": "8LV3ts58-ag6"
      },
      "execution_count": 9,
      "outputs": []
    },
    {
      "cell_type": "markdown",
      "source": [
        "## Generate Packets\n",
        "Here we are going to generate the packets ~ Poisson(X)"
      ],
      "metadata": {
        "id": "lVtZ0OCEsEjw"
      }
    },
    {
      "cell_type": "code",
      "source": [
        "generator = np.random.default_rng()\n",
        "packet_arrivals = generator.poisson(lam=X, size=T * X)\n",
        "priorities = np.random.choice([0, 1, 2], p=[0.2, 0.3, 0.5], size = T * X)"
      ],
      "metadata": {
        "id": "IDkI5F3osDAY"
      },
      "execution_count": 13,
      "outputs": []
    },
    {
      "cell_type": "markdown",
      "source": [
        "## Generate Service Times\n",
        "Here we are going to generate the service times ~ Exponential(Y)"
      ],
      "metadata": {
        "id": "r8DV_9GXsMso"
      }
    },
    {
      "cell_type": "code",
      "execution_count": 11,
      "metadata": {
        "id": "0BgJ3D2Qr17Z"
      },
      "outputs": [],
      "source": [
        "generator = np.random.default_rng()\n",
        "packet_times = generator.exponential(Y, size=T * X)"
      ]
    },
    {
      "cell_type": "code",
      "source": [
        "packets = [Task(inter_arrival=arrival, priority=priority, execute_time=time)\n",
        "for (arrival, priority, time) in zip(packet_arrivals, priorities, packet_times)]\n"
      ],
      "metadata": {
        "id": "siPWxTkSBg2w"
      },
      "execution_count": 15,
      "outputs": []
    },
    {
      "cell_type": "code",
      "source": [
        "print(len(packets))\n"
      ],
      "metadata": {
        "colab": {
          "base_uri": "https://localhost:8080/"
        },
        "id": "ZXuLq5olAqIx",
        "outputId": "f567c284-0137-410b-a35d-fd77f14e0ee4"
      },
      "execution_count": 16,
      "outputs": [
        {
          "output_type": "stream",
          "name": "stdout",
          "text": [
            "250\n"
          ]
        }
      ]
    },
    {
      "cell_type": "markdown",
      "source": [
        "## Start Simulation\n"
      ],
      "metadata": {
        "id": "CZiLzESWCBY4"
      }
    },
    {
      "cell_type": "code",
      "source": [
        "# T : Total Time of Simlation\n",
        "for t in T:\n",
        "  # TODO"
      ],
      "metadata": {
        "id": "zI2bhiWWCA0X"
      },
      "execution_count": null,
      "outputs": []
    },
    {
      "cell_type": "markdown",
      "source": [
        "## Visualization\n",
        "Here we are going to visualize the outputs and check the performance of our simulation."
      ],
      "metadata": {
        "id": "iSOf3ExLsYy8"
      }
    },
    {
      "cell_type": "markdown",
      "source": [
        "### Mean Length of the Queue"
      ],
      "metadata": {
        "id": "hRxMWGhktVzi"
      }
    },
    {
      "cell_type": "code",
      "source": [],
      "metadata": {
        "id": "mRW2dCYAtcoa"
      },
      "execution_count": null,
      "outputs": []
    },
    {
      "cell_type": "markdown",
      "source": [
        "### Mean time wasted in all Queues"
      ],
      "metadata": {
        "id": "MjR86yRTtcyf"
      }
    },
    {
      "cell_type": "code",
      "source": [],
      "metadata": {
        "id": "bQMtsWsutiXv"
      },
      "execution_count": null,
      "outputs": []
    },
    {
      "cell_type": "markdown",
      "source": [
        "### Mean time wasted in each Queue"
      ],
      "metadata": {
        "id": "edB1ok_3tigv"
      }
    },
    {
      "cell_type": "code",
      "source": [],
      "metadata": {
        "id": "W-FTyXb3tm3k"
      },
      "execution_count": null,
      "outputs": []
    },
    {
      "cell_type": "markdown",
      "source": [
        "### Mean Utilization of each processor"
      ],
      "metadata": {
        "id": "uWYilU8UtnAw"
      }
    },
    {
      "cell_type": "code",
      "source": [],
      "metadata": {
        "id": "QMjEXn80tv0J"
      },
      "execution_count": null,
      "outputs": []
    },
    {
      "cell_type": "markdown",
      "source": [
        "### Number of dropped packages"
      ],
      "metadata": {
        "id": "d1n8XAVDtwd8"
      }
    },
    {
      "cell_type": "code",
      "source": [],
      "metadata": {
        "id": "-fbNUBgNt0zP"
      },
      "execution_count": null,
      "outputs": []
    },
    {
      "cell_type": "markdown",
      "source": [
        "### How can we increase the utilization of the system?"
      ],
      "metadata": {
        "id": "EqnvEsuxt06b"
      }
    },
    {
      "cell_type": "markdown",
      "source": [
        "Answer:"
      ],
      "metadata": {
        "id": "KaHfDziet6f5"
      }
    },
    {
      "cell_type": "markdown",
      "source": [
        "### CDF Plots of high-priority Packages"
      ],
      "metadata": {
        "id": "U6eh5vpat8AA"
      }
    },
    {
      "cell_type": "code",
      "source": [],
      "metadata": {
        "id": "WnlVHbbWuD6Y"
      },
      "execution_count": null,
      "outputs": []
    },
    {
      "cell_type": "markdown",
      "source": [
        "### Which of the Queuing Poilicies (3 policies) is better regarding the \"number of dropped packages\" and \"number of packages received by the Host\"?"
      ],
      "metadata": {
        "id": "qtLTEnCRuEB9"
      }
    },
    {
      "cell_type": "markdown",
      "source": [
        "Answer:"
      ],
      "metadata": {
        "id": "mpTUczK1uZ0J"
      }
    }
  ]
}