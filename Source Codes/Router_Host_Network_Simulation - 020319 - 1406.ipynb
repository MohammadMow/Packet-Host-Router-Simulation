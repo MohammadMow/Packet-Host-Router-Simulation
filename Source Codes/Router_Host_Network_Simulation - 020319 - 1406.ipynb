{
  "nbformat": 4,
  "nbformat_minor": 0,
  "metadata": {
    "colab": {
      "provenance": []
    },
    "kernelspec": {
      "name": "python3",
      "display_name": "Python 3"
    },
    "language_info": {
      "name": "python"
    }
  },
  "cells": [
    {
      "cell_type": "markdown",
      "source": [
        "# Computer Simulation Project\n",
        "Mohammad Javad Maheronnaghsh\n",
        "\n",
        "Mohammad Mowlavi"
      ],
      "metadata": {
        "id": "4jPNUWNUr6CP"
      }
    },
    {
      "cell_type": "markdown",
      "source": [
        "## General Information of the Simulation"
      ],
      "metadata": {
        "id": "FPt12Vh7samr"
      }
    },
    {
      "cell_type": "code",
      "source": [
        "X = 1 # parameter of the poisson distribution (in packet generation)\n",
        "Y = 1 # parameter of the exponential distribution (in router - for service time generation)\n",
        "T = 1 # Total simulation time"
      ],
      "metadata": {
        "id": "BNFiKxfuseFT"
      },
      "execution_count": 2,
      "outputs": []
    },
    {
      "cell_type": "markdown",
      "source": [
        "## Generate Packets\n",
        "Here we are going to generate the packets ~ Poisson(X)"
      ],
      "metadata": {
        "id": "lVtZ0OCEsEjw"
      }
    },
    {
      "cell_type": "code",
      "source": [],
      "metadata": {
        "id": "IDkI5F3osDAY"
      },
      "execution_count": null,
      "outputs": []
    },
    {
      "cell_type": "markdown",
      "source": [
        "## Generate Service Times\n",
        "Here we are going to generate the service times ~ Exponential(Y)"
      ],
      "metadata": {
        "id": "r8DV_9GXsMso"
      }
    },
    {
      "cell_type": "code",
      "execution_count": null,
      "metadata": {
        "id": "0BgJ3D2Qr17Z"
      },
      "outputs": [],
      "source": []
    },
    {
      "cell_type": "markdown",
      "source": [
        "## Visualization\n",
        "Here we are going to visualoze the outputs and check the performance of our simulation."
      ],
      "metadata": {
        "id": "iSOf3ExLsYy8"
      }
    },
    {
      "cell_type": "markdown",
      "source": [
        "### Mean Length of the Queue"
      ],
      "metadata": {
        "id": "hRxMWGhktVzi"
      }
    },
    {
      "cell_type": "code",
      "source": [],
      "metadata": {
        "id": "mRW2dCYAtcoa"
      },
      "execution_count": null,
      "outputs": []
    },
    {
      "cell_type": "markdown",
      "source": [
        "### Mean time wasted in all Queues"
      ],
      "metadata": {
        "id": "MjR86yRTtcyf"
      }
    },
    {
      "cell_type": "code",
      "source": [],
      "metadata": {
        "id": "bQMtsWsutiXv"
      },
      "execution_count": null,
      "outputs": []
    },
    {
      "cell_type": "markdown",
      "source": [
        "### Mean time wasted in each Queue"
      ],
      "metadata": {
        "id": "edB1ok_3tigv"
      }
    },
    {
      "cell_type": "code",
      "source": [],
      "metadata": {
        "id": "W-FTyXb3tm3k"
      },
      "execution_count": null,
      "outputs": []
    },
    {
      "cell_type": "markdown",
      "source": [
        "### Mean Utilization of each processor"
      ],
      "metadata": {
        "id": "uWYilU8UtnAw"
      }
    },
    {
      "cell_type": "code",
      "source": [],
      "metadata": {
        "id": "QMjEXn80tv0J"
      },
      "execution_count": null,
      "outputs": []
    },
    {
      "cell_type": "markdown",
      "source": [
        "### Number of dropped packages"
      ],
      "metadata": {
        "id": "d1n8XAVDtwd8"
      }
    },
    {
      "cell_type": "code",
      "source": [],
      "metadata": {
        "id": "-fbNUBgNt0zP"
      },
      "execution_count": null,
      "outputs": []
    },
    {
      "cell_type": "markdown",
      "source": [
        "### How can we increase the utilization of the system?"
      ],
      "metadata": {
        "id": "EqnvEsuxt06b"
      }
    },
    {
      "cell_type": "markdown",
      "source": [
        "Answer: "
      ],
      "metadata": {
        "id": "KaHfDziet6f5"
      }
    },
    {
      "cell_type": "markdown",
      "source": [
        "### CDF Plots of high-priority Packages"
      ],
      "metadata": {
        "id": "U6eh5vpat8AA"
      }
    },
    {
      "cell_type": "code",
      "source": [],
      "metadata": {
        "id": "WnlVHbbWuD6Y"
      },
      "execution_count": null,
      "outputs": []
    },
    {
      "cell_type": "markdown",
      "source": [
        "### Which of the Queuing Poilicies (3 policies) is better regarding the \"number of dropped packages\" and \"number of packages received by the Host\"?"
      ],
      "metadata": {
        "id": "qtLTEnCRuEB9"
      }
    },
    {
      "cell_type": "markdown",
      "source": [
        "Answer:"
      ],
      "metadata": {
        "id": "mpTUczK1uZ0J"
      }
    }
  ]
}
